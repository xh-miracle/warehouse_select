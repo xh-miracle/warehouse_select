{
 "cells": [
  {
   "cell_type": "code",
   "execution_count": 1,
   "metadata": {},
   "outputs": [],
   "source": [
    "from get_html import get_html\n",
    "from get_html import get_result\n",
    "from setting import json_head,proj_dir\n",
    "from page import get_index\n",
    "from page import page\n",
    "from allcsv import allcsv\n",
    "from item import item\n",
    "from pathlib import Path\n",
    "import pandas as pd\n",
    "from selenium.webdriver.chrome.options import Options\n",
    "from selenium import webdriver\n",
    "#from certifycode import crack\n",
    "from selenium.webdriver import ActionChains\n",
    "from selenium.webdriver.common.by import By\n"
   ]
  },
  {
   "cell_type": "code",
   "execution_count": 2,
   "metadata": {},
   "outputs": [
    {
     "name": "stdout",
     "output_type": "stream",
     "text": [
      "开始qthtudi\n",
      "index=0\n",
      "qthtudi搜索暂无结果\n",
      "开始qthchangfang\n",
      "index=2\n"
     ]
    },
    {
     "name": "stderr",
     "output_type": "stream",
     "text": [
      "100%|██████████| 1/1 [00:03<00:00,  3.45s/it]\n",
      "100%|██████████| 36/36 [02:39<00:00,  4.44s/it]\n"
     ]
    },
    {
     "name": "stdout",
     "output_type": "stream",
     "text": [
      "开始qthcangkucf\n",
      "index=2\n"
     ]
    },
    {
     "name": "stderr",
     "output_type": "stream",
     "text": [
      "100%|██████████| 1/1 [00:03<00:00,  3.54s/it]\n",
      "100%|██████████| 12/12 [00:52<00:00,  4.41s/it]\n"
     ]
    },
    {
     "name": "stdout",
     "output_type": "stream",
     "text": [
      "开始dxaltudi\n",
      "index=0\n",
      "dxaltudi搜索暂无结果\n",
      "开始dxalchangfang\n",
      "index=0\n",
      "dxalchangfang搜索暂无结果\n",
      "开始dxalcangkucf\n",
      "index=0\n",
      "dxalcangkucf搜索暂无结果\n",
      "开始shandatudi\n",
      "index=2\n"
     ]
    },
    {
     "name": "stderr",
     "output_type": "stream",
     "text": [
      "100%|██████████| 1/1 [00:03<00:00,  3.42s/it]\n",
      "100%|██████████| 1/1 [00:04<00:00,  4.44s/it]\n"
     ]
    },
    {
     "name": "stdout",
     "output_type": "stream",
     "text": [
      "开始shandachangfang\n",
      "index=2\n"
     ]
    },
    {
     "name": "stderr",
     "output_type": "stream",
     "text": [
      "100%|██████████| 1/1 [00:03<00:00,  3.55s/it]\n",
      "100%|██████████| 10/10 [00:44<00:00,  4.45s/it]\n"
     ]
    },
    {
     "name": "stdout",
     "output_type": "stream",
     "text": [
      "开始shandacangkucf\n",
      "index=2\n"
     ]
    },
    {
     "name": "stderr",
     "output_type": "stream",
     "text": [
      "100%|██████████| 1/1 [00:03<00:00,  3.48s/it]\n",
      "100%|██████████| 2/2 [00:08<00:00,  4.44s/it]\n"
     ]
    },
    {
     "name": "stdout",
     "output_type": "stream",
     "text": [
      "开始shzhaodongtudi\n",
      "index=2\n"
     ]
    },
    {
     "name": "stderr",
     "output_type": "stream",
     "text": [
      "100%|██████████| 1/1 [00:03<00:00,  3.48s/it]\n",
      "100%|██████████| 7/7 [00:31<00:00,  4.45s/it]\n"
     ]
    },
    {
     "name": "stdout",
     "output_type": "stream",
     "text": [
      "开始shzhaodongchangfang\n",
      "index=2\n"
     ]
    },
    {
     "name": "stderr",
     "output_type": "stream",
     "text": [
      "100%|██████████| 1/1 [00:03<00:00,  3.64s/it]\n",
      "100%|██████████| 23/23 [01:41<00:00,  4.43s/it]\n"
     ]
    },
    {
     "name": "stdout",
     "output_type": "stream",
     "text": [
      "开始shzhaodongcangkucf\n",
      "index=2\n"
     ]
    },
    {
     "name": "stderr",
     "output_type": "stream",
     "text": [
      "100%|██████████| 1/1 [00:03<00:00,  3.47s/it]\n",
      "100%|██████████| 9/9 [00:40<00:00,  4.49s/it]\n"
     ]
    },
    {
     "name": "stdout",
     "output_type": "stream",
     "text": [
      "开始zhaozhoutudi\n",
      "index=0\n",
      "zhaozhoutudi搜索暂无结果\n",
      "开始zhaozhouchangfang\n",
      "index=0\n",
      "zhaozhouchangfang搜索暂无结果\n",
      "开始zhaozhoucangkucf\n",
      "index=0\n",
      "zhaozhoucangkucf搜索暂无结果\n"
     ]
    }
   ],
   "source": [
    "# cities = ['hrb','dq','qqhr','mdj','suihua','jms','jixi','sys','hegang','heihe','yich','qth','dxal','shanda','shzhaodong','zhaozhou']\n",
    "cities = ['qth','dxal','shanda','shzhaodong','zhaozhou']\n",
    "for city in cities:\n",
    "#leixing = 厂房、仓库、土地\n",
    "    for leixing in [\"tudi\",\"changfang\",\"cangkucf\"]: \n",
    "        pn_url=f\"https://{city}.58.com/{leixing}/\" # 网址\n",
    "        print(f'开始{city}的{leixing}')\n",
    "        if __name__ == \"__main__\":\n",
    "            '''pathlib.Path.mkdir\n",
    "            mkdir(parents=True, exist_ok=True)\n",
    "            parents：如果父目录不存在，是否创建父目录。\n",
    "            exist_ok：只有在目录不存在时创建目录，目录已存在时不会抛出异常。\n",
    "            '''\n",
    "            Path(f\"{proj_dir}/{city}/{leixing}/website\").mkdir(parents=True, exist_ok=True)# 创建文件夹\n",
    "            index=get_index(city,leixing,pn_url) # 获取最大页码-找网页规律\n",
    "            print(f'页数={index}')\n",
    "\n",
    "            if index!=0:\n",
    "                startpage=1\n",
    "                endpage=index # 最大页码\n",
    "                page(startpage,endpage,pn_url=pn_url,city=city,leixing=leixing) # 获取每一页的网址，有异常则打印页码\n",
    "                # page(startpage=4,endpage=8,pn_url=pn_url,city=city,leixing=leixing)    \n",
    "            html_cnt = allcsv(city,leixing) # 每个文件夹下的html中的网址写入csv,返回pn_html个数\n",
    "\n",
    "            startrow=0\n",
    "            if html_cnt>0:\n",
    "                item(startrow, city=city,leixing=leixing) # csv中的每个网址内容get并解析到website文件夹中\n"
   ]
  },
  {
   "cell_type": "code",
   "execution_count": 17,
   "metadata": {},
   "outputs": [
    {
     "name": "stdout",
     "output_type": "stream",
     "text": [
      "qth搜索暂无结果\n"
     ]
    }
   ],
   "source": [
    "from setting import proj_dir\n",
    "import glob\n",
    "from bs4 import BeautifulSoup as bf\n",
    "import pandas as pd\n",
    "# 每个文件夹下的html中的网址写入csv\n",
    "\n",
    "def allcsv(city,leixing):\n",
    "    html_list = glob.glob(f\"{proj_dir}/{city}/{leixing}/*.html\")  # 查看同文件夹下的html文件列表\n",
    "    if len(html_list)>0:\n",
    "        f = open(f\"{proj_dir}/{city}/{leixing}/{leixing}.csv\", mode=\"a\")\n",
    "        for result in html_list:  # 循环读取同文件夹下的html文件\n",
    "            obj = bf(open(result, encoding=\"utf-8\"), features=\"html.parser\")  # features值可为lxml\n",
    "            for item in obj.select('ul[class=\"list-main-style\"] a'):\n",
    "                detail_url = item.get(\"href\")\n",
    "                if 'https:' not in str(detail_url):\n",
    "                    detail_url = f\"https:{detail_url}\"\n",
    "                    f.write(\"%s\\n\" % (detail_url))\n",
    "                else:\n",
    "                    f.write(\"%s\\n\" % (detail_url))\n",
    "        f.close()\n",
    "        data = pd.read_csv(f\"{proj_dir}/{city}/{leixing}/{leixing}.csv\", header=None)\n",
    "        data = data.iloc[:, 0].astype(\"str\").str.split(\"prd\", expand=True)[0] # expand让分割内容变成2列\n",
    "        data = data.drop_duplicates() # 去重\n",
    "    else:\n",
    "        print(f'{city}搜索暂无结果')\n",
    "allcsv(city,leixing)"
   ]
  },
  {
   "cell_type": "code",
   "execution_count": 14,
   "metadata": {},
   "outputs": [
    {
     "ename": "EmptyDataError",
     "evalue": "No columns to parse from file",
     "output_type": "error",
     "traceback": [
      "\u001b[1;31m---------------------------------------------------------------------------\u001b[0m",
      "\u001b[1;31mEmptyDataError\u001b[0m                            Traceback (most recent call last)",
      "\u001b[1;32m~\\AppData\\Local\\Temp\\ipykernel_24500\\2893773141.py\u001b[0m in \u001b[0;36m<module>\u001b[1;34m\u001b[0m\n\u001b[1;32m----> 1\u001b[1;33m \u001b[0mdata\u001b[0m \u001b[1;33m=\u001b[0m \u001b[0mpd\u001b[0m\u001b[1;33m.\u001b[0m\u001b[0mread_csv\u001b[0m\u001b[1;33m(\u001b[0m\u001b[1;34mf\"{proj_dir}/{city}/{leixing}/{leixing}.csv\"\u001b[0m\u001b[1;33m,\u001b[0m\u001b[0mheader\u001b[0m\u001b[1;33m=\u001b[0m\u001b[1;32mNone\u001b[0m\u001b[1;33m)\u001b[0m\u001b[1;33m\u001b[0m\u001b[1;33m\u001b[0m\u001b[0m\n\u001b[0m\u001b[0;32m      2\u001b[0m \u001b[0mdata\u001b[0m \u001b[1;33m=\u001b[0m \u001b[0mdata\u001b[0m\u001b[1;33m.\u001b[0m\u001b[0miloc\u001b[0m\u001b[1;33m[\u001b[0m\u001b[1;33m:\u001b[0m\u001b[1;33m,\u001b[0m \u001b[1;36m0\u001b[0m\u001b[1;33m]\u001b[0m\u001b[1;33m.\u001b[0m\u001b[0mastype\u001b[0m\u001b[1;33m(\u001b[0m\u001b[1;34m\"str\"\u001b[0m\u001b[1;33m)\u001b[0m\u001b[1;33m\u001b[0m\u001b[1;33m\u001b[0m\u001b[0m\n\u001b[0;32m      3\u001b[0m \u001b[0mendrow\u001b[0m\u001b[1;33m=\u001b[0m\u001b[0mdata\u001b[0m\u001b[1;33m.\u001b[0m\u001b[0mshape\u001b[0m\u001b[1;33m[\u001b[0m\u001b[1;36m0\u001b[0m\u001b[1;33m]\u001b[0m\u001b[1;33m\u001b[0m\u001b[1;33m\u001b[0m\u001b[0m\n\u001b[0;32m      4\u001b[0m \u001b[1;32mfor\u001b[0m \u001b[0mi\u001b[0m \u001b[1;32min\u001b[0m \u001b[0mtqdm\u001b[0m\u001b[1;33m(\u001b[0m\u001b[0mrange\u001b[0m\u001b[1;33m(\u001b[0m\u001b[0mstartrow\u001b[0m\u001b[1;33m,\u001b[0m \u001b[0mendrow\u001b[0m\u001b[1;33m)\u001b[0m\u001b[1;33m)\u001b[0m\u001b[1;33m:\u001b[0m\u001b[1;33m\u001b[0m\u001b[1;33m\u001b[0m\u001b[0m\n\u001b[0;32m      5\u001b[0m     \u001b[0mitem_url\u001b[0m \u001b[1;33m=\u001b[0m \u001b[0mdata\u001b[0m\u001b[1;33m.\u001b[0m\u001b[0miloc\u001b[0m\u001b[1;33m[\u001b[0m\u001b[0mi\u001b[0m\u001b[1;33m]\u001b[0m\u001b[1;33m\u001b[0m\u001b[1;33m\u001b[0m\u001b[0m\n",
      "\u001b[1;32mc:\\Users\\15955\\anaconda3\\lib\\site-packages\\pandas\\util\\_decorators.py\u001b[0m in \u001b[0;36mwrapper\u001b[1;34m(*args, **kwargs)\u001b[0m\n\u001b[0;32m    309\u001b[0m                     \u001b[0mstacklevel\u001b[0m\u001b[1;33m=\u001b[0m\u001b[0mstacklevel\u001b[0m\u001b[1;33m,\u001b[0m\u001b[1;33m\u001b[0m\u001b[1;33m\u001b[0m\u001b[0m\n\u001b[0;32m    310\u001b[0m                 )\n\u001b[1;32m--> 311\u001b[1;33m             \u001b[1;32mreturn\u001b[0m \u001b[0mfunc\u001b[0m\u001b[1;33m(\u001b[0m\u001b[1;33m*\u001b[0m\u001b[0margs\u001b[0m\u001b[1;33m,\u001b[0m \u001b[1;33m**\u001b[0m\u001b[0mkwargs\u001b[0m\u001b[1;33m)\u001b[0m\u001b[1;33m\u001b[0m\u001b[1;33m\u001b[0m\u001b[0m\n\u001b[0m\u001b[0;32m    312\u001b[0m \u001b[1;33m\u001b[0m\u001b[0m\n\u001b[0;32m    313\u001b[0m         \u001b[1;32mreturn\u001b[0m \u001b[0mwrapper\u001b[0m\u001b[1;33m\u001b[0m\u001b[1;33m\u001b[0m\u001b[0m\n",
      "\u001b[1;32mc:\\Users\\15955\\anaconda3\\lib\\site-packages\\pandas\\io\\parsers\\readers.py\u001b[0m in \u001b[0;36mread_csv\u001b[1;34m(filepath_or_buffer, sep, delimiter, header, names, index_col, usecols, squeeze, prefix, mangle_dupe_cols, dtype, engine, converters, true_values, false_values, skipinitialspace, skiprows, skipfooter, nrows, na_values, keep_default_na, na_filter, verbose, skip_blank_lines, parse_dates, infer_datetime_format, keep_date_col, date_parser, dayfirst, cache_dates, iterator, chunksize, compression, thousands, decimal, lineterminator, quotechar, quoting, doublequote, escapechar, comment, encoding, encoding_errors, dialect, error_bad_lines, warn_bad_lines, on_bad_lines, delim_whitespace, low_memory, memory_map, float_precision, storage_options)\u001b[0m\n\u001b[0;32m    676\u001b[0m     \u001b[0mkwds\u001b[0m\u001b[1;33m.\u001b[0m\u001b[0mupdate\u001b[0m\u001b[1;33m(\u001b[0m\u001b[0mkwds_defaults\u001b[0m\u001b[1;33m)\u001b[0m\u001b[1;33m\u001b[0m\u001b[1;33m\u001b[0m\u001b[0m\n\u001b[0;32m    677\u001b[0m \u001b[1;33m\u001b[0m\u001b[0m\n\u001b[1;32m--> 678\u001b[1;33m     \u001b[1;32mreturn\u001b[0m \u001b[0m_read\u001b[0m\u001b[1;33m(\u001b[0m\u001b[0mfilepath_or_buffer\u001b[0m\u001b[1;33m,\u001b[0m \u001b[0mkwds\u001b[0m\u001b[1;33m)\u001b[0m\u001b[1;33m\u001b[0m\u001b[1;33m\u001b[0m\u001b[0m\n\u001b[0m\u001b[0;32m    679\u001b[0m \u001b[1;33m\u001b[0m\u001b[0m\n\u001b[0;32m    680\u001b[0m \u001b[1;33m\u001b[0m\u001b[0m\n",
      "\u001b[1;32mc:\\Users\\15955\\anaconda3\\lib\\site-packages\\pandas\\io\\parsers\\readers.py\u001b[0m in \u001b[0;36m_read\u001b[1;34m(filepath_or_buffer, kwds)\u001b[0m\n\u001b[0;32m    573\u001b[0m \u001b[1;33m\u001b[0m\u001b[0m\n\u001b[0;32m    574\u001b[0m     \u001b[1;31m# Create the parser.\u001b[0m\u001b[1;33m\u001b[0m\u001b[1;33m\u001b[0m\u001b[0m\n\u001b[1;32m--> 575\u001b[1;33m     \u001b[0mparser\u001b[0m \u001b[1;33m=\u001b[0m \u001b[0mTextFileReader\u001b[0m\u001b[1;33m(\u001b[0m\u001b[0mfilepath_or_buffer\u001b[0m\u001b[1;33m,\u001b[0m \u001b[1;33m**\u001b[0m\u001b[0mkwds\u001b[0m\u001b[1;33m)\u001b[0m\u001b[1;33m\u001b[0m\u001b[1;33m\u001b[0m\u001b[0m\n\u001b[0m\u001b[0;32m    576\u001b[0m \u001b[1;33m\u001b[0m\u001b[0m\n\u001b[0;32m    577\u001b[0m     \u001b[1;32mif\u001b[0m \u001b[0mchunksize\u001b[0m \u001b[1;32mor\u001b[0m \u001b[0miterator\u001b[0m\u001b[1;33m:\u001b[0m\u001b[1;33m\u001b[0m\u001b[1;33m\u001b[0m\u001b[0m\n",
      "\u001b[1;32mc:\\Users\\15955\\anaconda3\\lib\\site-packages\\pandas\\io\\parsers\\readers.py\u001b[0m in \u001b[0;36m__init__\u001b[1;34m(self, f, engine, **kwds)\u001b[0m\n\u001b[0;32m    930\u001b[0m \u001b[1;33m\u001b[0m\u001b[0m\n\u001b[0;32m    931\u001b[0m         \u001b[0mself\u001b[0m\u001b[1;33m.\u001b[0m\u001b[0mhandles\u001b[0m\u001b[1;33m:\u001b[0m \u001b[0mIOHandles\u001b[0m \u001b[1;33m|\u001b[0m \u001b[1;32mNone\u001b[0m \u001b[1;33m=\u001b[0m \u001b[1;32mNone\u001b[0m\u001b[1;33m\u001b[0m\u001b[1;33m\u001b[0m\u001b[0m\n\u001b[1;32m--> 932\u001b[1;33m         \u001b[0mself\u001b[0m\u001b[1;33m.\u001b[0m\u001b[0m_engine\u001b[0m \u001b[1;33m=\u001b[0m \u001b[0mself\u001b[0m\u001b[1;33m.\u001b[0m\u001b[0m_make_engine\u001b[0m\u001b[1;33m(\u001b[0m\u001b[0mf\u001b[0m\u001b[1;33m,\u001b[0m \u001b[0mself\u001b[0m\u001b[1;33m.\u001b[0m\u001b[0mengine\u001b[0m\u001b[1;33m)\u001b[0m\u001b[1;33m\u001b[0m\u001b[1;33m\u001b[0m\u001b[0m\n\u001b[0m\u001b[0;32m    933\u001b[0m \u001b[1;33m\u001b[0m\u001b[0m\n\u001b[0;32m    934\u001b[0m     \u001b[1;32mdef\u001b[0m \u001b[0mclose\u001b[0m\u001b[1;33m(\u001b[0m\u001b[0mself\u001b[0m\u001b[1;33m)\u001b[0m\u001b[1;33m:\u001b[0m\u001b[1;33m\u001b[0m\u001b[1;33m\u001b[0m\u001b[0m\n",
      "\u001b[1;32mc:\\Users\\15955\\anaconda3\\lib\\site-packages\\pandas\\io\\parsers\\readers.py\u001b[0m in \u001b[0;36m_make_engine\u001b[1;34m(self, f, engine)\u001b[0m\n\u001b[0;32m   1232\u001b[0m \u001b[1;33m\u001b[0m\u001b[0m\n\u001b[0;32m   1233\u001b[0m         \u001b[1;32mtry\u001b[0m\u001b[1;33m:\u001b[0m\u001b[1;33m\u001b[0m\u001b[1;33m\u001b[0m\u001b[0m\n\u001b[1;32m-> 1234\u001b[1;33m             \u001b[1;32mreturn\u001b[0m \u001b[0mmapping\u001b[0m\u001b[1;33m[\u001b[0m\u001b[0mengine\u001b[0m\u001b[1;33m]\u001b[0m\u001b[1;33m(\u001b[0m\u001b[0mf\u001b[0m\u001b[1;33m,\u001b[0m \u001b[1;33m**\u001b[0m\u001b[0mself\u001b[0m\u001b[1;33m.\u001b[0m\u001b[0moptions\u001b[0m\u001b[1;33m)\u001b[0m\u001b[1;33m\u001b[0m\u001b[1;33m\u001b[0m\u001b[0m\n\u001b[0m\u001b[0;32m   1235\u001b[0m         \u001b[1;32mexcept\u001b[0m \u001b[0mException\u001b[0m\u001b[1;33m:\u001b[0m\u001b[1;33m\u001b[0m\u001b[1;33m\u001b[0m\u001b[0m\n\u001b[0;32m   1236\u001b[0m             \u001b[1;32mif\u001b[0m \u001b[0mself\u001b[0m\u001b[1;33m.\u001b[0m\u001b[0mhandles\u001b[0m \u001b[1;32mis\u001b[0m \u001b[1;32mnot\u001b[0m \u001b[1;32mNone\u001b[0m\u001b[1;33m:\u001b[0m\u001b[1;33m\u001b[0m\u001b[1;33m\u001b[0m\u001b[0m\n",
      "\u001b[1;32mc:\\Users\\15955\\anaconda3\\lib\\site-packages\\pandas\\io\\parsers\\c_parser_wrapper.py\u001b[0m in \u001b[0;36m__init__\u001b[1;34m(self, src, **kwds)\u001b[0m\n\u001b[0;32m     73\u001b[0m \u001b[1;33m\u001b[0m\u001b[0m\n\u001b[0;32m     74\u001b[0m         \u001b[0mkwds\u001b[0m\u001b[1;33m[\u001b[0m\u001b[1;34m\"dtype\"\u001b[0m\u001b[1;33m]\u001b[0m \u001b[1;33m=\u001b[0m \u001b[0mensure_dtype_objs\u001b[0m\u001b[1;33m(\u001b[0m\u001b[0mkwds\u001b[0m\u001b[1;33m.\u001b[0m\u001b[0mget\u001b[0m\u001b[1;33m(\u001b[0m\u001b[1;34m\"dtype\"\u001b[0m\u001b[1;33m,\u001b[0m \u001b[1;32mNone\u001b[0m\u001b[1;33m)\u001b[0m\u001b[1;33m)\u001b[0m\u001b[1;33m\u001b[0m\u001b[1;33m\u001b[0m\u001b[0m\n\u001b[1;32m---> 75\u001b[1;33m         \u001b[0mself\u001b[0m\u001b[1;33m.\u001b[0m\u001b[0m_reader\u001b[0m \u001b[1;33m=\u001b[0m \u001b[0mparsers\u001b[0m\u001b[1;33m.\u001b[0m\u001b[0mTextReader\u001b[0m\u001b[1;33m(\u001b[0m\u001b[0msrc\u001b[0m\u001b[1;33m,\u001b[0m \u001b[1;33m**\u001b[0m\u001b[0mkwds\u001b[0m\u001b[1;33m)\u001b[0m\u001b[1;33m\u001b[0m\u001b[1;33m\u001b[0m\u001b[0m\n\u001b[0m\u001b[0;32m     76\u001b[0m \u001b[1;33m\u001b[0m\u001b[0m\n\u001b[0;32m     77\u001b[0m         \u001b[0mself\u001b[0m\u001b[1;33m.\u001b[0m\u001b[0munnamed_cols\u001b[0m \u001b[1;33m=\u001b[0m \u001b[0mself\u001b[0m\u001b[1;33m.\u001b[0m\u001b[0m_reader\u001b[0m\u001b[1;33m.\u001b[0m\u001b[0munnamed_cols\u001b[0m\u001b[1;33m\u001b[0m\u001b[1;33m\u001b[0m\u001b[0m\n",
      "\u001b[1;32mc:\\Users\\15955\\anaconda3\\lib\\site-packages\\pandas\\_libs\\parsers.pyx\u001b[0m in \u001b[0;36mpandas._libs.parsers.TextReader.__cinit__\u001b[1;34m()\u001b[0m\n",
      "\u001b[1;31mEmptyDataError\u001b[0m: No columns to parse from file"
     ]
    }
   ],
   "source": [
    "data = pd.read_csv(f\"{proj_dir}/{city}/{leixing}/{leixing}.csv\",header=None)\n",
    "data = data.iloc[:, 0].astype(\"str\")\n",
    "endrow=data.shape[0]\n",
    "for i in tqdm(range(startrow, endrow)):\n",
    "    item_url = data.iloc[i]"
   ]
  },
  {
   "cell_type": "code",
   "execution_count": 6,
   "metadata": {},
   "outputs": [
    {
     "data": {
      "text/plain": [
       "('qth', 'tudi')"
      ]
     },
     "execution_count": 6,
     "metadata": {},
     "output_type": "execute_result"
    }
   ],
   "source": [
    "city,leixing"
   ]
  },
  {
   "cell_type": "code",
   "execution_count": 4,
   "metadata": {},
   "outputs": [
    {
     "data": {
      "text/plain": [
       "0"
      ]
     },
     "execution_count": 4,
     "metadata": {},
     "output_type": "execute_result"
    }
   ],
   "source": [
    "\n",
    "kw = \"pagelist\" # 关键词\n",
    "reponse = get_html(pn_url, kw, json_head) # request.get返回网址响应(添加请求头和参数)\n",
    "obj = get_result(reponse) # bs4解析html\n",
    "if '搜索暂无结果，查看下其他内容吧' not in obj.text:\n",
    "    if obj.find(\"div\", class_=\"pager\").find_all(\"a\"):\n",
    "        page = obj.find(\"div\", class_=\"pager\").find_all(\"a\") # 定位页码标签\n",
    "        if len(page)>3: # 网址>2页\n",
    "            maxpage = page[2].get(\"href\") # 例如https://qqhr.58.com/changfang/pn2/ 齐齐哈尔厂房第2页\n",
    "            new_url = maxpage[: maxpage.index(\"?\") + 1].split(\"pn\")\n",
    "            index = int(new_url[1].split(\"/\")[0]) + 1 \n",
    "        else:\n",
    "            maxpage = page[-2].get(\"href\") # 倒数第二个（最后1个是\"下一页\"）\n",
    "            new_url = maxpage[: maxpage.index(\"?\") + 1].split(\"pn\")\n",
    "            index = int(new_url[1].split(\"/\")[0]) + 1 \n",
    "    elif obj.find(\"div\", class_=\"pager\"): # 网页源码找不到class_=\"pager\"\n",
    "        index = 2 \n",
    "    else: # ???\n",
    "        index=0\n",
    "else: # 'NoneType' object has no attribute 'find_all'\n",
    "    index=0\n",
    "index"
   ]
  },
  {
   "cell_type": "code",
   "execution_count": 6,
   "metadata": {},
   "outputs": [
    {
     "data": {
      "text/plain": [
       "'\\n\\n\\n\\n【七台河土地出租|七台河土地租赁网，七台河土地招租价格信息】-七台河58同城\\n\\n\\n\\n\\n\\n\\n\\n\\n\\n\\n\\n\\n\\n\\n\\n\\n\\n\\n\\n\\n\\n\\n\\n\\n免费发布\\n\\n\\n\\n\\n\\n\\n\\n\\n\\n\\n\\n\\n                            桃南街星光巷\\n                        \\n\\n\\n\\n\\n\\n\\n\\n\\n租房\\n\\n\\n二手房\\n\\n\\n商铺\\n\\n\\n生意转让\\n\\n\\n写字楼\\n\\n\\n厂房\\n\\n\\n仓库\\n\\n\\n土地\\n\\n\\n车位\\n\\n\\n\\n\\n\\n\\n                七台河58同城\\n            \\n             >\\n            \\n                七台河房产信息\\n            \\n             >\\n            \\n                七台河土地出租\\n            \\n\\n\\n\\n\\n\\n                        出租\\n                    \\n\\n\\n\\n                        出售\\n                    \\n\\n\\n\\n                        转让\\n                    \\n\\n\\n\\n\\n\\n\\n\\n位置：\\n区域\\n地图找房\\n\\n\\n\\n\\n\\n\\n全七台河\\n桃山\\n新兴\\n茄子河\\n勃利\\n七台河周边\\n\\n\\n\\n\\n\\n\\n\\n\\n\\n\\n\\n面积：\\n\\n不限\\n100m²以下\\n100-500m²\\n500-1000m²\\n1000-2000m²\\n2000-5000m²\\n5000-8000m²\\n8000-12000m²\\n12000m²以上\\n\\n\\n - \\n\\nm²\\n\\n\\n\\n\\n\\n\\n\\n\\n\\n 租金：\\n\\n\\n不限\\n2元/m²/天以下\\n2-3元/m²/天\\n3-5元/m²/天\\n5-6元/m²/天\\n6-8元/m²/天\\n8-10元/m²/天\\n10元/m²/天以上\\n\\n\\n\\n                    不限\\n                \\n\\n                    2000元/月以下\\n                \\n\\n                    2000-5000元/月\\n                \\n\\n                    5000-8000元/月\\n                \\n\\n                    8000-10000元/月\\n                \\n\\n                    1-2万元/月\\n                \\n\\n                    2-5万元/月\\n                \\n\\n                    5万元/月以上\\n                \\n\\n\\n\\n\\n - \\n\\n元/m²/天\\n\\n\\n\\n\\n\\n\\n\\n - \\n\\n 元/月\\n\\n\\n\\n\\n\\n\\n\\n\\n\\n\\n\\n\\n\\n\\n\\n\\n\\n其他：\\n\\n\\n\\n\\n\\n   来源不限                                 \\n\\n\\n\\n来源不限\\n                            \\n个人\\n                            \\n经纪人\\n                            \\n\\n\\n\\n\\n\\n\\n\\n\\n\\n\\n\\n\\n全部房源 \\n\\n\\n视频看房 \\n\\n\\n\\n\\n\\n\\n\\n\\n搜索暂无结果，查看下其他内容吧~\\n\\n\\n\\n\\n\\n\\n\\n\\n\\n\\n\\n\\n\\n\\n\\n\\n\\n\\n\\n\\n\\n\\n\\n相关推荐\\n七台河土地周边城市\\n热门城市写字楼出租\\n热门城市写字楼出售\\n热门城市商铺出租\\n热门城市商铺出售\\n\\n\\n\\n郑州土地\\n南京土地\\n广州土地\\n石家庄土地\\n深圳土地\\n福州土地\\n北京土地\\n青岛土地\\n南昌土地\\n南宁土地\\n合肥土地\\n武汉土地\\n重庆土地\\n长沙土地\\n厦门土地\\n天津土地\\n沈阳土地\\n太原土地\\n成都土地\\n大连土地\\n哈尔滨土地\\n西安土地\\n苏州土地\\n杭州土地\\n上海土地\\n济南土地\\n长春土地\\n\\n\\n哈尔滨土地出租\\n齐齐哈尔土地出租\\n牡丹江土地出租\\n佳木斯土地出租\\n大庆土地出租\\n鸡西土地出租\\n绥化土地出租\\n\\n\\n上海写字楼出租\\n北京写字楼出租\\n成都写字楼出租\\n深圳写字楼出租\\n广州写字楼出租\\n杭州写字楼出租\\n重庆写字楼出租\\n武汉写字楼出租\\n宁波写字楼出租\\n南京写字楼出租\\n西安写字楼出租\\n合肥写字楼出租\\n苏州写字楼出租\\n东莞写字楼出租\\n郑州写字楼出租\\n长沙写字楼出租\\n贵阳写字楼出租\\n沈阳写字楼出租\\n南宁写字楼出租\\n昆明写字楼出租\\n天津写字楼出租\\n佛山写字楼出租\\n中山写字楼出租\\n厦门写字楼出租\\n无锡写字楼出租\\n哈尔滨写字楼出租\\n大连写字楼出租\\n济南写字楼出租\\n福州写字楼出租\\n石家庄写字楼出租\\n昆山写字楼出租\\n青岛写字楼出租\\n惠州写字楼出租\\n长春写字楼出租\\n南昌写字楼出租\\n乌鲁木齐写字楼出租\\n兰州写字楼出租\\n太原写字楼出租\\n呼和浩特写字楼出租\\n海口写字楼出租\\n珠海写字楼出租\\n三亚写字楼出租\\n舟山写字楼出租\\n\\n\\n上海写字楼出售\\n北京写字楼出售\\n成都写字楼出售\\n深圳写字楼出售\\n广州写字楼出售\\n杭州写字楼出售\\n重庆写字楼出售\\n武汉写字楼出售\\n宁波写字楼出售\\n南京写字楼出售\\n西安写字楼出售\\n合肥写字楼出售\\n苏州写字楼出售\\n东莞写字楼出售\\n郑州写字楼出售\\n长沙写字楼出售\\n贵阳写字楼出售\\n沈阳写字楼出售\\n南宁写字楼出售\\n昆明写字楼出售\\n天津写字楼出售\\n佛山写字楼出售\\n中山写字楼出售\\n厦门写字楼出售\\n无锡写字楼出售\\n哈尔滨写字楼出售\\n大连写字楼出售\\n济南写字楼出售\\n福州写字楼出售\\n石家庄写字楼出售\\n昆山写字楼出售\\n青岛写字楼出售\\n惠州写字楼出售\\n长春写字楼出售\\n南昌写字楼出售\\n乌鲁木齐写字楼出售\\n兰州写字楼出售\\n太原写字楼出售\\n呼和浩特写字楼出售\\n海口写字楼出售\\n珠海写字楼出售\\n三亚写字楼出售\\n舟山写字楼出售\\n\\n\\n上海商铺出租\\n北京商铺出租\\n成都商铺出租\\n深圳商铺出租\\n广州商铺出租\\n杭州商铺出租\\n重庆商铺出租\\n武汉商铺出租\\n宁波商铺出租\\n南京商铺出租\\n西安商铺出租\\n合肥商铺出租\\n苏州商铺出租\\n东莞商铺出租\\n郑州商铺出租\\n长沙商铺出租\\n贵阳商铺出租\\n沈阳商铺出租\\n南宁商铺出租\\n昆明商铺出租\\n天津商铺出租\\n佛山商铺出租\\n中山商铺出租\\n厦门商铺出租\\n无锡商铺出租\\n哈尔滨商铺出租\\n大连商铺出租\\n济南商铺出租\\n福州商铺出租\\n石家庄商铺出租\\n昆山商铺出租\\n青岛商铺出租\\n惠州商铺出租\\n长春商铺出租\\n南昌商铺出租\\n乌鲁木齐商铺出租\\n兰州商铺出租\\n太原商铺出租\\n呼和浩特商铺出租\\n海口商铺出租\\n珠海商铺出租\\n三亚商铺出租\\n舟山商铺出租\\n\\n\\n上海商铺出售\\n北京商铺出售\\n成都商铺出售\\n深圳商铺出售\\n广州商铺出售\\n杭州商铺出售\\n重庆商铺出售\\n武汉商铺出售\\n宁波商铺出售\\n南京商铺出售\\n西安商铺出售\\n合肥商铺出售\\n苏州商铺出售\\n东莞商铺出售\\n郑州商铺出售\\n长沙商铺出售\\n贵阳商铺出售\\n沈阳商铺出售\\n南宁商铺出售\\n昆明商铺出售\\n天津商铺出售\\n佛山商铺出售\\n中山商铺出售\\n厦门商铺出售\\n无锡商铺出售\\n哈尔滨商铺出售\\n大连商铺出售\\n济南商铺出售\\n福州商铺出售\\n石家庄商铺出售\\n昆山商铺出售\\n青岛商铺出售\\n惠州商铺出售\\n长春商铺出售\\n南昌商铺出售\\n乌鲁木齐商铺出售\\n兰州商铺出售\\n太原商铺出售\\n呼和浩特商铺出售\\n海口商铺出售\\n珠海商铺出售\\n三亚商铺出售\\n舟山商铺出售\\n\\n\\n\\n\\n\\n\\n\\n                    A\\n                    \\n\\n\\n更多>>\\n\\n\\n\\n                    B\\n                    \\n\\n\\n勃利县客运站土地\\n更多>>\\n\\n\\n\\n                    C\\n                    \\n\\n\\n更多>>\\n\\n\\n\\n                    D\\n                    \\n\\n\\n更多>>\\n\\n\\n\\n                    E\\n                    \\n\\n\\n更多>>\\n\\n\\n\\n                    F\\n                    \\n\\n\\n更多>>\\n\\n\\n\\n                    G\\n                    \\n\\n\\n更多>>\\n\\n\\n\\n                    H\\n                    \\n\\n\\n更多>>\\n\\n\\n\\n                    I\\n                    \\n\\n\\n更多>>\\n\\n\\n\\n                    J\\n                    \\n\\n\\n更多>>\\n\\n\\n\\n                    K\\n                    \\n\\n\\n更多>>\\n\\n\\n\\n                    L\\n                    \\n\\n\\n更多>>\\n\\n\\n\\n                    M\\n                    \\n\\n\\n更多>>\\n\\n\\n\\n                    N\\n                    \\n\\n\\n更多>>\\n\\n\\n\\n                    O\\n                    \\n\\n\\n更多>>\\n\\n\\n\\n                    P\\n                    \\n\\n\\n更多>>\\n\\n\\n\\n                    Q\\n                    \\n\\n\\n七台河站土地\\n茄子河区医院土地\\n更多>>\\n\\n\\n\\n                    R\\n                    \\n\\n\\n更多>>\\n\\n\\n\\n                    S\\n                    \\n\\n\\n更多>>\\n\\n\\n\\n                    T\\n                    \\n\\n\\n桃山公园土地\\n更多>>\\n\\n\\n\\n                    U\\n                    \\n\\n\\n更多>>\\n\\n\\n\\n                    V\\n                    \\n\\n\\n更多>>\\n\\n\\n\\n                    W\\n                    \\n\\n\\n更多>>\\n\\n\\n\\n                    X\\n                    \\n\\n\\n杏树火车站土地\\n更多>>\\n\\n\\n\\n                    Y\\n                    \\n\\n\\n更多>>\\n\\n\\n\\n                    Z\\n                    \\n\\n\\n更多>>\\n\\n\\n\\n\\n\\n热门推荐：\\n租房合同\\n\\n\\n友情链接：\\n杭州酒店预订\\n曼谷信息网\\n更多...\\n\\n\\n\\n\\n\\n\\n\\n\\n\\n\\n\\n\\n\\n\\n\\n'"
      ]
     },
     "execution_count": 6,
     "metadata": {},
     "output_type": "execute_result"
    }
   ],
   "source": [
    "obj.text"
   ]
  },
  {
   "cell_type": "code",
   "execution_count": 21,
   "metadata": {},
   "outputs": [
    {
     "name": "stdout",
     "output_type": "stream",
     "text": [
      "index=3\n"
     ]
    },
    {
     "name": "stderr",
     "output_type": "stream",
     "text": [
      "100%|██████████| 2/2 [00:07<00:00,  3.55s/it]\n",
      "100%|██████████| 43/43 [03:12<00:00,  4.47s/it]\n"
     ]
    },
    {
     "name": "stdout",
     "output_type": "stream",
     "text": [
      "index=3\n"
     ]
    },
    {
     "name": "stderr",
     "output_type": "stream",
     "text": [
      "100%|██████████| 2/2 [00:07<00:00,  3.60s/it]\n",
      "100%|██████████| 43/43 [03:09<00:00,  4.41s/it]\n"
     ]
    },
    {
     "name": "stdout",
     "output_type": "stream",
     "text": [
      "index=2\n"
     ]
    },
    {
     "name": "stderr",
     "output_type": "stream",
     "text": [
      "100%|██████████| 1/1 [00:03<00:00,  3.43s/it]\n",
      "100%|██████████| 8/8 [00:35<00:00,  4.42s/it]\n"
     ]
    }
   ],
   "source": [
    "# 单个城市测试\n",
    "city='jms'\n",
    "for leixing in [\"cangkucf\",\"changfang\",\"tudi\"]: \n",
    "    pn_url=f\"https://{city}.58.com/{leixing}/\" # 网址\n",
    "\n",
    "    if __name__ == \"__main__\":\n",
    "        '''pathlib.Path.mkdir\n",
    "        mkdir(parents=True, exist_ok=True)\n",
    "        parents：如果父目录不存在，是否创建父目录。\n",
    "        exist_ok：只有在目录不存在时创建目录，目录已存在时不会抛出异常。\n",
    "        '''\n",
    "        Path(f\"{proj_dir}/{city}/{leixing}/website\").mkdir(parents=True, exist_ok=True)# 创建文件夹\n",
    "        index=get_index(city,leixing,pn_url) # 获取最大页码-找网页规律\n",
    "        print(f'index={index}')\n",
    "\n",
    "        if index!=0:\n",
    "            startpage=1\n",
    "            endpage=index # 最大页码\n",
    "            page(startpage,endpage,pn_url=pn_url,city=city,leixing=leixing) # 获取每一页的网址，有异常则打印页码\n",
    "            # page(startpage=4,endpage=8,pn_url=pn_url,city=city,leixing=leixing)    \n",
    "        allcsv(city,leixing) # 每个文件夹下的html中的网址写入csv\n",
    "\n",
    "        startrow=0\n",
    "        if startrow==0:\n",
    "            item(startrow, city=city,leixing=leixing) # csv中的每个网址内容get并解析到website文件夹中"
   ]
  },
  {
   "cell_type": "code",
   "execution_count": 2,
   "metadata": {},
   "outputs": [],
   "source": [
    "pn_url='https://dl.58.com/tudi/'"
   ]
  },
  {
   "cell_type": "code",
   "execution_count": 3,
   "metadata": {},
   "outputs": [
    {
     "data": {
      "text/plain": [
       "5"
      ]
     },
     "execution_count": 3,
     "metadata": {},
     "output_type": "execute_result"
    }
   ],
   "source": [
    "from get_html import get_html,get_result\n",
    "from setting import json_head\n",
    "import time\n",
    "from tqdm import tqdm\n",
    "from setting import stop_word1,stop_word2,proj_dir,limit\n",
    "# from certifycode import crack\n",
    "from selenium.webdriver.chrome.options import Options\n",
    "from selenium import webdriver\n",
    "kw = \"pagelist\" # 关键词\n",
    "reponse = get_html(pn_url, kw, json_head) # request.get返回网址响应(添加请求头和参数)\n",
    "obj = get_result(reponse) # bs4解析html\n",
    "if obj.find(\"div\", class_=\"pager\").find_all(\"a\"):\n",
    "    page = obj.find(\"div\", class_=\"pager\").find_all(\"a\") # 定位页码标签\n",
    "    if len(page)>3:\n",
    "        maxpage = page[2].get(\"href\") # 例如https://qqhr.58.com/changfang/pn2/ 齐齐哈尔厂房第2页\n",
    "        new_url = maxpage[: maxpage.index(\"?\") + 1].split(\"pn\")\n",
    "        index = int(new_url[1].split(\"/\")[0]) + 1\n",
    "    else:\n",
    "        maxpage = page[-2].get(\"href\")\n",
    "        new_url = maxpage[: maxpage.index(\"?\") + 1].split(\"pn\")\n",
    "        index = int(new_url[1].split(\"/\")[0]) + 1 \n",
    "elif obj.find(\"div\", class_=\"pager\"):\n",
    "    index = 2\n",
    "else:\n",
    "    index=0\n",
    "index"
   ]
  },
  {
   "cell_type": "code",
   "execution_count": 11,
   "metadata": {},
   "outputs": [
    {
     "data": {
      "text/plain": [
       "'https://dl.58.com/tudi/pn4/?wd=pagelist&gposLastIndex=35&skuInserted=0&FGTID=186520419219925209409196034&maxInserted=0'"
      ]
     },
     "execution_count": 11,
     "metadata": {},
     "output_type": "execute_result"
    }
   ],
   "source": [
    "maxpage\n"
   ]
  },
  {
   "cell_type": "code",
   "execution_count": 19,
   "metadata": {},
   "outputs": [
    {
     "data": {
      "text/plain": [
       "'4'"
      ]
     },
     "execution_count": 19,
     "metadata": {},
     "output_type": "execute_result"
    }
   ],
   "source": [
    "maxpage[: maxpage.index(\"?\")-1].split('/pn')[-1]"
   ]
  },
  {
   "cell_type": "code",
   "execution_count": 7,
   "metadata": {},
   "outputs": [],
   "source": [
    "from setting import proj_dir\n",
    "import glob\n",
    "from bs4 import BeautifulSoup as bf\n",
    "import pandas as pd\n"
   ]
  },
  {
   "cell_type": "code",
   "execution_count": 28,
   "metadata": {},
   "outputs": [
    {
     "name": "stdout",
     "output_type": "stream",
     "text": [
      "→https://qqhr.58.com/fangchan/53460389113492x.shtml?prd=L9PR%2FN9l6x2ue7W6BPEOdAxuUYbQ98LiLMz0k3yqRde38BNcQ8uPyg8AsxiH661W&houseId=2920888122321929&gpos=1&legotopurl=%2F%2Flegoclick.58.com%2Fjump%3Ftarget%3DszqQ0y6zsWN3shPfUiqhmyOMmv66UBtdn1Evnjn3rHDQn1EOnM980v6YUykKuadBrHR6nHF-PzYQrH91sHEQuWTVmWR-PBdbn1mLrjFhPH93PhcKPWn1PWcYrHnQP1NkPH9KTHcOnWT3rj9QnWc1nWDOnWbKnTDQnjTKnikQP9DdrjN1THDvP103rHDOnHNvnH0KnEDdrad_pgPYXhEVOuyAOsBpOuzkOsJMTHDKnEDKsHDKTHDvn1T3Pj0YPW0LPWbvnH9Yn1NKP97kmgF6Ugn1PHmlnBQkmgF6UgnznjnlnEDQTHNYryRBPWI-syR-PjNVPAwBraYOujcOsyRbujmLnHbduHnLm9DQPWnkrjELPjmLrj9zrjNzn1NzTHDvn1T3Pj0YPW0LrHTdrjN3PH0KTEDKTEDVTEDKTgKiyZ01wdKCrZmzHDCLIvqNijFdEy0q5EDznjTQrhw6rjCOnjTLrWEkPjDlmyw6njC1uH--rWPbuHEluHwBnEDOn10LPjmzn10YnH0dnTDkTEDQsjDvTgVqTHDknTDQnjTzrHTkTyE3PHu-nWE1sHNQuH9VPj9OmzY3nj6WsH0znjcdmWNYm1-WPTDKnTDKTHTKPH9dnzkdrjNdsjnvPjbLTHDKUMR_UTDQryDQPA76mvRbrAwbuAE1&referinfo=false&utm_source=&spm=&positionType=legotophouse&lgtid_shangyetie=d856e243-51e8-489c-808c-72025b54c9c4&cocoTestType=coco_area_expand_test&legoCocoTestType=coco_area_expand_test&filterJson=e30&jx_abtest=ZWljX3N5ZGNfcGNfcmVjb21tZW5kX3Rlc3QsY29jb19hcmVhX2V4cGFuZF90ZXN0LHVzZXJfcGhhc2VfbA&list_type=main\n",
      "→https://qqhr.58.com/fangchan/52306951260290x.shtml?prd=L9PR%2FN9l6x2ue7W6BPEOdAxuUYbQ98LiLMz0k3yqRdf%2F5%2FfbsUlw5Qr0rn2Ruxxo&houseId=2773248077257736&gpos=2&positionType=houserecommendlist&cocoTestType=coco_area_expand_test&legoCocoTestType=coco_area_expand_test&filterJson=e30&jx_abtest=ZWljX3N5ZGNfcGNfcmVjb21tZW5kX3Rlc3QsY29jb19hcmVhX2V4cGFuZF90ZXN0LHVzZXJfcGhhc2VfbA&list_type=main\n",
      "→https://qqhr.58.com/fangchan/50407517009943x.shtml?prd=L9PR%2FN9l6x2ue7W6BPEOdAxuUYbQ98LiLMz0k3yqRdfHhnW3k4L%2BEFHoVJ5lIWAr&houseId=2530120493179917&gpos=3&positionType=houserecommendlist&cocoTestType=coco_area_expand_test&legoCocoTestType=coco_area_expand_test&filterJson=e30&jx_abtest=ZWljX3N5ZGNfcGNfcmVjb21tZW5kX3Rlc3QsY29jb19hcmVhX2V4cGFuZF90ZXN0LHVzZXJfcGhhc2VfbA&list_type=main\n",
      "→https://qqhr.58.com/fangchan/41783044783108x.shtml?prd=L9PR%2FN9l6x2ue7W6BPEOdAxuUYbQ98LiLMz0k3yqRdd8IT0UtHjIorq6pnjAH7Sk&houseId=1426188048277506&gpos=4&positionType=houserecommendlist&cocoTestType=coco_area_expand_test&legoCocoTestType=coco_area_expand_test&filterJson=e30&jx_abtest=ZWljX3N5ZGNfcGNfcmVjb21tZW5kX3Rlc3QsY29jb19hcmVhX2V4cGFuZF90ZXN0LHVzZXJfcGhhc2VfbA&list_type=main\n",
      "→https://qqhr.58.com/fangchan/26042589413304x.shtml?prd=L9PR%2FN9l6x2ue7W6BPEOdAxuUYbQ98LiLMz0k3yqRddv2hG%2BUzoEOmDLc9rUZPzD&houseId=1140040453708801&gpos=5&positionType=houserecommendlist&cocoTestType=coco_area_expand_test&legoCocoTestType=coco_area_expand_test&filterJson=e30&jx_abtest=ZWljX3N5ZGNfcGNfcmVjb21tZW5kX3Rlc3QsY29jb19hcmVhX2V4cGFuZF90ZXN0LHVzZXJfcGhhc2VfbA&list_type=main\n",
      "→https://qqhr.58.com/fangchan/41704223656977x.shtml?prd=L9PR%2FN9l6x2ue7W6BPEOdAxuUYbQ98LiLMz0k3yqRdciHiF8TGkMtB%2FB3pwuELHu&houseId=1416098943754248&gpos=6&positionType=houserecommendlist&cocoTestType=coco_area_expand_test&legoCocoTestType=coco_area_expand_test&filterJson=e30&jx_abtest=ZWljX3N5ZGNfcGNfcmVjb21tZW5kX3Rlc3QsY29jb19hcmVhX2V4cGFuZF90ZXN0LHVzZXJfcGhhc2VfbA&list_type=main\n",
      "→https://qqhr.58.com/fangchan/50946765734794x.shtml?prd=L9PR%2FN9l6x2ue7W6BPEOdAxuUYbQ98LiLMz0k3yqRde0JDLwh4vr6lCaPl7kjNUL&houseId=2599144329980939&gpos=7&positionType=houserecommendlist&cocoTestType=coco_area_expand_test&legoCocoTestType=coco_area_expand_test&filterJson=e30&jx_abtest=ZWljX3N5ZGNfcGNfcmVjb21tZW5kX3Rlc3QsY29jb19hcmVhX2V4cGFuZF90ZXN0LHVzZXJfcGhhc2VfbA&list_type=main\n",
      "→https://qqhr.58.com/fangchan/52163768898957x.shtml?prd=L9PR%2FN9l6x2ue7W6BPEOdAxuUYbQ98LiLMz0k3yqRdcebLi21fYT5Vw5DLYderRB&houseId=2754920735124484&gpos=8&positionType=houserecommendlist&cocoTestType=coco_area_expand_test&legoCocoTestType=coco_area_expand_test&filterJson=e30&jx_abtest=ZWljX3N5ZGNfcGNfcmVjb21tZW5kX3Rlc3QsY29jb19hcmVhX2V4cGFuZF90ZXN0LHVzZXJfcGhhc2VfbA&list_type=main\n",
      "→https://qqhr.58.com/fangchan/43553698257185x.shtml?prd=L9PR%2FN9l6x2ue7W6BPEOdAxuUYbQ98LiLMz0k3yqRddxxmR1h0n1smOGJ1t57%2BX9&houseId=1652831692497927&gpos=9&positionType=houserecommendlist&cocoTestType=coco_area_expand_test&legoCocoTestType=coco_area_expand_test&filterJson=e30&jx_abtest=ZWljX3N5ZGNfcGNfcmVjb21tZW5kX3Rlc3QsY29jb19hcmVhX2V4cGFuZF90ZXN0LHVzZXJfcGhhc2VfbA&list_type=main\n",
      "→https://qqhr.58.com/fangchan/50582247425584x.shtml?prd=L9PR%2FN9l6x2ue7W6BPEOdAxuUYbQ98LiLMz0k3yqRdc3X%2BqbTn6Mt0wMmdz1JbkS&houseId=2552485986491393&gpos=10&positionType=houserecommendlist&cocoTestType=coco_area_expand_test&legoCocoTestType=coco_area_expand_test&filterJson=e30&jx_abtest=ZWljX3N5ZGNfcGNfcmVjb21tZW5kX3Rlc3QsY29jb19hcmVhX2V4cGFuZF90ZXN0LHVzZXJfcGhhc2VfbA&list_type=main\n",
      "→https://qqhr.58.com/fangchan/53163358827394x.shtml?prd=L9PR%2FN9l6x2ue7W6BPEOdAxuUYbQ98LiLMz0k3yqRdfg3b7eMz7zyBSpkITx3%2BlQ&houseId=2882868246078468&gpos=11&positionType=houserecommendlist&cocoTestType=coco_area_expand_test&legoCocoTestType=coco_area_expand_test&filterJson=e30&jx_abtest=ZWljX3N5ZGNfcGNfcmVjb21tZW5kX3Rlc3QsY29jb19hcmVhX2V4cGFuZF90ZXN0LHVzZXJfcGhhc2VfbA&list_type=main\n",
      "→https://qqhr.58.com/fangchan/51678961432368x.shtml?prd=L9PR%2FN9l6x2ue7W6BPEOdAxuUYbQ98LiLMz0k3yqRddRPq39NzHReJal2E2KM6XV&houseId=2692865379818497&gpos=12&positionType=houserecommendlist&cocoTestType=coco_area_expand_test&legoCocoTestType=coco_area_expand_test&filterJson=e30&jx_abtest=ZWljX3N5ZGNfcGNfcmVjb21tZW5kX3Rlc3QsY29jb19hcmVhX2V4cGFuZF90ZXN0LHVzZXJfcGhhc2VfbA&list_type=main\n",
      "→https://qqhr.58.com/fangchan/50425292059323x.shtml?prd=L9PR%2FN9l6x2ue7W6BPEOdAxuUYbQ98LiLMz0k3yqRdejoHgBnUitmd1LoLhXxXm%2F&houseId=2532395699938317&gpos=13&positionType=houserecommendlist&cocoTestType=coco_area_expand_test&legoCocoTestType=coco_area_expand_test&filterJson=e30&jx_abtest=ZWljX3N5ZGNfcGNfcmVjb21tZW5kX3Rlc3QsY29jb19hcmVhX2V4cGFuZF90ZXN0LHVzZXJfcGhhc2VfbA&list_type=main\n",
      "→https://qqhr.58.com/fangchan/48054218663564x.shtml?prd=L9PR%2FN9l6x2ue7W6BPEOdAxuUYbQ98LiLMz0k3yqRdeXbpI7txsvknADLZhMwyTl&houseId=2228898305139715&gpos=14&positionType=houserecommendlist&cocoTestType=coco_area_expand_test&legoCocoTestType=coco_area_expand_test&filterJson=e30&jx_abtest=ZWljX3N5ZGNfcGNfcmVjb21tZW5kX3Rlc3QsY29jb19hcmVhX2V4cGFuZF90ZXN0LHVzZXJfcGhhc2VfbA&list_type=main\n",
      "→https://qqhr.58.com/fangchan/52243895559963x.shtml?prd=L9PR%2FN9l6x2ue7W6BPEOdAxuUYbQ98LiLMz0k3yqRdfMdx6tDGwwFWjsv0IeE7nZ&houseId=2765176947565575&gpos=15&positionType=houserecommendlist&cocoTestType=coco_area_expand_test&legoCocoTestType=coco_area_expand_test&filterJson=e30&jx_abtest=ZWljX3N5ZGNfcGNfcmVjb21tZW5kX3Rlc3QsY29jb19hcmVhX2V4cGFuZF90ZXN0LHVzZXJfcGhhc2VfbA&list_type=main\n",
      "→https://qqhr.58.com/fangchan/35565929924677x.shtml?prd=L9PR%2FN9l6x2ue7W6BPEOdAxuUYbQ98LiLMz0k3yqRdeKweDUJWKAZOJPnByLbpm5&houseId=1140973673717761&gpos=16&positionType=houserecommendlist&cocoTestType=coco_area_expand_test&legoCocoTestType=coco_area_expand_test&filterJson=e30&jx_abtest=ZWljX3N5ZGNfcGNfcmVjb21tZW5kX3Rlc3QsY29jb19hcmVhX2V4cGFuZF90ZXN0LHVzZXJfcGhhc2VfbA&list_type=main\n",
      "→https://qqhr.58.com/fangchan/46494402065080x.shtml?prd=L9PR%2FN9l6x2ue7W6BPEOdAxuUYbQ98LiLMz0k3yqRddPo1NWaDz8tlT6rCfEd40q&houseId=2029241780149259&gpos=17&positionType=houserecommendlist&cocoTestType=coco_area_expand_test&legoCocoTestType=coco_area_expand_test&filterJson=e30&jx_abtest=ZWljX3N5ZGNfcGNfcmVjb21tZW5kX3Rlc3QsY29jb19hcmVhX2V4cGFuZF90ZXN0LHVzZXJfcGhhc2VfbA&list_type=main\n",
      "→https://qqhr.58.com/fangchan/36351999483792x.shtml?prd=L9PR%2FN9l6x2ue7W6BPEOdAxuUYbQ98LiLMz0k3yqRdfyA4Y6IEOE4EVmg2IhA4WG&houseId=1140909321986048&gpos=18&positionType=houserecommendlist&cocoTestType=coco_area_expand_test&legoCocoTestType=coco_area_expand_test&filterJson=e30&jx_abtest=ZWljX3N5ZGNfcGNfcmVjb21tZW5kX3Rlc3QsY29jb19hcmVhX2V4cGFuZF90ZXN0LHVzZXJfcGhhc2VfbA&list_type=main\n",
      "→https://qqhr.58.com/fangchan/50857486750352x.shtml?prd=L9PR%2FN9l6x2ue7W6BPEOdAxuUYbQ98LiLMz0k3yqRde8HSh9uIuhDkwE96h4Bwez&houseId=2587716619902986&gpos=19&positionType=houserecommendlist&cocoTestType=coco_area_expand_test&legoCocoTestType=coco_area_expand_test&filterJson=e30&jx_abtest=ZWljX3N5ZGNfcGNfcmVjb21tZW5kX3Rlc3QsY29jb19hcmVhX2V4cGFuZF90ZXN0LHVzZXJfcGhhc2VfbA&list_type=main\n",
      "→https://qqhr.58.com/fangchan/48635417729812x.shtml?prd=L9PR%2FN9l6x2ue7W6BPEOdAxuUYbQ98LiLMz0k3yqRdfJXu0rmuKLsjBzjZedwZH7&houseId=2303291785079810&gpos=20&positionType=houserecommendlist&cocoTestType=coco_area_expand_test&legoCocoTestType=coco_area_expand_test&filterJson=e30&jx_abtest=ZWljX3N5ZGNfcGNfcmVjb21tZW5kX3Rlc3QsY29jb19hcmVhX2V4cGFuZF90ZXN0LHVzZXJfcGhhc2VfbA&list_type=main\n",
      "→https://qqhr.58.com/fangchan/50230773778070x.shtml?prd=L9PR%2FN9l6x2ue7W6BPEOdAxuUYbQ98LiLMz0k3yqRdcadcQ6hgaIf6cwpbU%2F%2BNvt&houseId=2507497359547392&gpos=21&positionType=houserecommendlist&cocoTestType=coco_area_expand_test&legoCocoTestType=coco_area_expand_test&filterJson=e30&jx_abtest=ZWljX3N5ZGNfcGNfcmVjb21tZW5kX3Rlc3QsY29jb19hcmVhX2V4cGFuZF90ZXN0LHVzZXJfcGhhc2VfbA&list_type=main\n",
      "→https://qqhr.58.com/fangchan/34086202572731x.shtml?prd=L9PR%2FN9l6x2ue7W6BPEOdAxuUYbQ98LiLMz0k3yqRdcdwvrLHUnI04IjSMCdnSM8&houseId=1072794585881600&gpos=22&positionType=houserecommendlist&cocoTestType=coco_area_expand_test&legoCocoTestType=coco_area_expand_test&filterJson=e30&jx_abtest=ZWljX3N5ZGNfcGNfcmVjb21tZW5kX3Rlc3QsY29jb19hcmVhX2V4cGFuZF90ZXN0LHVzZXJfcGhhc2VfbA&list_type=main\n",
      "→https://qqhr.58.com/fangchan/49287899789095x.shtml?prd=L9PR%2FN9l6x2ue7W6BPEOdAxuUYbQ98LiLMz0k3yqRddg8MVl2effz5klQ%2FyowYLd&houseId=2386809488564233&gpos=23&positionType=houserecommendlist&cocoTestType=coco_area_expand_test&legoCocoTestType=coco_area_expand_test&filterJson=e30&jx_abtest=ZWljX3N5ZGNfcGNfcmVjb21tZW5kX3Rlc3QsY29jb19hcmVhX2V4cGFuZF90ZXN0LHVzZXJfcGhhc2VfbA&list_type=main\n",
      "→https://qqhr.58.com/fangchan/47607265089070x.shtml?prd=L9PR%2FN9l6x2ue7W6BPEOdAxuUYbQ98LiLMz0k3yqRde%2FOUHE7PbhUVBSbuvhiWBI&houseId=2171688247091200&gpos=24&positionType=houserecommendlist&cocoTestType=coco_area_expand_test&legoCocoTestType=coco_area_expand_test&filterJson=e30&jx_abtest=ZWljX3N5ZGNfcGNfcmVjb21tZW5kX3Rlc3QsY29jb19hcmVhX2V4cGFuZF90ZXN0LHVzZXJfcGhhc2VfbA&list_type=main\n",
      "→https://qqhr.58.com/fangchan/52275869154307x.shtml?prd=L9PR%2FN9l6x2ue7W6BPEOdAxuUYbQ98LiLMz0k3yqRdd3t5Nv7mlCEc0JllVqsIzm&houseId=2769269567955971&gpos=25&positionType=houserecommendlist&cocoTestType=coco_area_expand_test&legoCocoTestType=coco_area_expand_test&filterJson=e30&jx_abtest=ZWljX3N5ZGNfcGNfcmVjb21tZW5kX3Rlc3QsY29jb19hcmVhX2V4cGFuZF90ZXN0LHVzZXJfcGhhc2VfbA&list_type=main\n",
      "→https://qqhr.58.com/fangchan/41518597959064x.shtml?prd=L9PR%2FN9l6x2ue7W6BPEOdAxuUYbQ98LiLMz0k3yqRdcBC2zuq6qfePTC2qp%2FaR7H&houseId=1392338854682631&gpos=26&positionType=houserecommendlist&cocoTestType=coco_area_expand_test&legoCocoTestType=coco_area_expand_test&filterJson=e30&jx_abtest=ZWljX3N5ZGNfcGNfcmVjb21tZW5kX3Rlc3QsY29jb19hcmVhX2V4cGFuZF90ZXN0LHVzZXJfcGhhc2VfbA&list_type=main\n",
      "→https://qqhr.58.com/fangchan/49844557345688x.shtml?prd=L9PR%2FN9l6x2ue7W6BPEOdAxuUYbQ98LiLMz0k3yqRdeoOCRwtPhbb07lytJeeYgl&houseId=2458061656121348&gpos=27&positionType=houserecommendlist&cocoTestType=coco_area_expand_test&legoCocoTestType=coco_area_expand_test&filterJson=e30&jx_abtest=ZWljX3N5ZGNfcGNfcmVjb21tZW5kX3Rlc3QsY29jb19hcmVhX2V4cGFuZF90ZXN0LHVzZXJfcGhhc2VfbA&list_type=main\n",
      "→https://qqhr.58.com/fangchan/47454087703481x.shtml?prd=L9PR%2FN9l6x2ue7W6BPEOdAxuUYbQ98LiLMz0k3yqRddimRQ7NJyYlWc1TaVHPmyR&houseId=2152081541733384&gpos=28&positionType=houserecommendlist&cocoTestType=coco_area_expand_test&legoCocoTestType=coco_area_expand_test&filterJson=e30&jx_abtest=ZWljX3N5ZGNfcGNfcmVjb21tZW5kX3Rlc3QsY29jb19hcmVhX2V4cGFuZF90ZXN0LHVzZXJfcGhhc2VfbA&list_type=main\n",
      "→https://qqhr.58.com/fangchan/53460389113492x.shtml?prd=L9PR%2FN9l6x2ue7W6BPEOdAxuUYbQ98LiLMz0k3yqRddRbkO6N7bcdyelrzEJKwR2&houseId=2920888122321929&gpos=29&positionType=houserecommendlist&cocoTestType=coco_area_expand_test&legoCocoTestType=coco_area_expand_test&filterJson=e30&jx_abtest=ZWljX3N5ZGNfcGNfcmVjb21tZW5kX3Rlc3QsY29jb19hcmVhX2V4cGFuZF90ZXN0LHVzZXJfcGhhc2VfbA&list_type=main\n",
      "→https://qqhr.58.com/fangchan/49874358586293x.shtml?prd=L9PR%2FN9l6x2ue7W6BPEOdAxuUYbQ98LiLMz0k3yqRdeAl%2B14u4MjK%2BV3lF1SE%2Byi&houseId=2461876215111695&gpos=30&positionType=houserecommendlist&cocoTestType=coco_area_expand_test&legoCocoTestType=coco_area_expand_test&filterJson=e30&jx_abtest=ZWljX3N5ZGNfcGNfcmVjb21tZW5kX3Rlc3QsY29jb19hcmVhX2V4cGFuZF90ZXN0LHVzZXJfcGhhc2VfbA&list_type=main\n",
      "→https://qqhr.58.com/fangchan/53460958192162x.shtml?prd=L9PR%2FN9l6x2ue7W6BPEOdAxuUYbQ98LiLMz0k3yqRdeIJHCWEJuhL%2BxKgE608%2BjR&houseId=2920960964453376&gpos=31&positionType=houserecommendlist&cocoTestType=coco_area_expand_test&legoCocoTestType=coco_area_expand_test&filterJson=e30&jx_abtest=ZWljX3N5ZGNfcGNfcmVjb21tZW5kX3Rlc3QsY29jb19hcmVhX2V4cGFuZF90ZXN0LHVzZXJfcGhhc2VfbA&list_type=main\n",
      "→https://qqhr.58.com/fangchan/51114442552323x.shtml?prd=L9PR%2FN9l6x2ue7W6BPEOdAxuUYbQ98LiLMz0k3yqRdfHJGCl8eLvNok7xDdT6uln&houseId=2620606962314243&gpos=32&positionType=houserecommendlist&cocoTestType=coco_area_expand_test&legoCocoTestType=coco_area_expand_test&filterJson=e30&jx_abtest=ZWljX3N5ZGNfcGNfcmVjb21tZW5kX3Rlc3QsY29jb19hcmVhX2V4cGFuZF90ZXN0LHVzZXJfcGhhc2VfbA&list_type=main\n",
      "→https://qqhr.58.com/fangchan/53405360005506x.shtml?prd=L9PR%2FN9l6x2ue7W6BPEOdAxuUYbQ98LiLMz0k3yqRdeAdsktXNetMhl2XYyYVsYv&houseId=2913844396579854&gpos=33&positionType=houserecommendlist&cocoTestType=coco_area_expand_test&legoCocoTestType=coco_area_expand_test&filterJson=e30&jx_abtest=ZWljX3N5ZGNfcGNfcmVjb21tZW5kX3Rlc3QsY29jb19hcmVhX2V4cGFuZF90ZXN0LHVzZXJfcGhhc2VfbA&list_type=main\n",
      "→https://qqhr.58.com/fangchan/52133142176643x.shtml?prd=L9PR%2FN9l6x2ue7W6BPEOdAxuUYbQ98LiLMz0k3yqRdevk3talB%2BZkKrc7WBZrhdE&houseId=2751000514157576&gpos=34&positionType=houserecommendlist&cocoTestType=coco_area_expand_test&legoCocoTestType=coco_area_expand_test&filterJson=e30&jx_abtest=ZWljX3N5ZGNfcGNfcmVjb21tZW5kX3Rlc3QsY29jb19hcmVhX2V4cGFuZF90ZXN0LHVzZXJfcGhhc2VfbA&list_type=main\n",
      "→https://qqhr.58.com/fangchan/53169626660740x.shtml?prd=L9PR%2FN9l6x2ue7W6BPEOdAxuUYbQ98LiLMz0k3yqRdfRGqQaqnCAXrufia7TcmyG&houseId=2883670528599054&gpos=35&positionType=houserecommendlist&cocoTestType=coco_area_expand_test&legoCocoTestType=coco_area_expand_test&filterJson=e30&jx_abtest=ZWljX3N5ZGNfcGNfcmVjb21tZW5kX3Rlc3QsY29jb19hcmVhX2V4cGFuZF90ZXN0LHVzZXJfcGhhc2VfbA&list_type=main\n",
      "→https://qqhr.58.com/fangchan/52175223532188x.shtml?prd=L9PR%2FN9l6x2ue7W6BPEOdAxuUYbQ98LiLMz0k3yqRde26SYJ67H8kjQGfEd0P2op&houseId=2756386928319498&gpos=36&positionType=houserecommendlist&cocoTestType=coco_area_expand_test&legoCocoTestType=coco_area_expand_test&filterJson=e30&jx_abtest=ZWljX3N5ZGNfcGNfcmVjb21tZW5kX3Rlc3QsY29jb19hcmVhX2V4cGFuZF90ZXN0LHVzZXJfcGhhc2VfbA&list_type=main\n",
      "→https://qqhr.58.com/fangchan/47083985797912x.shtml?prd=L9PR%2FN9l6x2ue7W6BPEOdAxuUYbQ98LiLMz0k3yqRde38BNcQ8uPyg8AsxiH661W&houseId=2104708497875983&gpos=1&positionType=houserecommendlist&cocoTestType=coco_area_expand_test&legoCocoTestType=coco_area_expand_test&filterJson=e30&jx_abtest=ZWljX3N5ZGNfcGNfcmVjb21tZW5kX3Rlc3QsY29jb19hcmVhX2V4cGFuZF90ZXN0LHVzZXJfcGhhc2VfbA&list_type=main\n",
      "→https://qqhr.58.com/fangchan/37563769652484x.shtml?prd=L9PR%2FN9l6x2ue7W6BPEOdAxuUYbQ98LiLMz0k3yqRdf%2F5%2FfbsUlw5Qr0rn2Ruxxo&houseId=1072941151707136&gpos=2&positionType=houserecommendlist&cocoTestType=coco_area_expand_test&legoCocoTestType=coco_area_expand_test&filterJson=e30&jx_abtest=ZWljX3N5ZGNfcGNfcmVjb21tZW5kX3Rlc3QsY29jb19hcmVhX2V4cGFuZF90ZXN0LHVzZXJfcGhhc2VfbA&list_type=main\n",
      "→https://qqhr.58.com/fangchan/44134568829713x.shtml?prd=L9PR%2FN9l6x2ue7W6BPEOdAxuUYbQ98LiLMz0k3yqRdfHhnW3k4L%2BEFHoVJ5lIWAr&houseId=1727183126144005&gpos=3&positionType=houserecommendlist&cocoTestType=coco_area_expand_test&legoCocoTestType=coco_area_expand_test&filterJson=e30&jx_abtest=ZWljX3N5ZGNfcGNfcmVjb21tZW5kX3Rlc3QsY29jb19hcmVhX2V4cGFuZF90ZXN0LHVzZXJfcGhhc2VfbA&list_type=main\n",
      "→https://qqhr.58.com/fangchan/53367274614316x.shtml?prd=L9PR%2FN9l6x2ue7W6BPEOdAxuUYbQ98LiLMz0k3yqRdd8IT0UtHjIorq6pnjAH7Sk&houseId=2908969466651663&gpos=4&positionType=houserecommendlist&cocoTestType=coco_area_expand_test&legoCocoTestType=coco_area_expand_test&filterJson=e30&jx_abtest=ZWljX3N5ZGNfcGNfcmVjb21tZW5kX3Rlc3QsY29jb19hcmVhX2V4cGFuZF90ZXN0LHVzZXJfcGhhc2VfbA&list_type=main\n",
      "→https://qqhr.58.com/fangchan/50305548221715x.shtml?prd=L9PR%2FN9l6x2ue7W6BPEOdAxuUYbQ98LiLMz0k3yqRddv2hG%2BUzoEOmDLc9rUZPzD&houseId=2517068487924736&gpos=5&positionType=houserecommendlist&cocoTestType=coco_area_expand_test&legoCocoTestType=coco_area_expand_test&filterJson=e30&jx_abtest=ZWljX3N5ZGNfcGNfcmVjb21tZW5kX3Rlc3QsY29jb19hcmVhX2V4cGFuZF90ZXN0LHVzZXJfcGhhc2VfbA&list_type=main\n",
      "→https://qqhr.58.com/fangchan/53150463707837x.shtml?prd=L9PR%2FN9l6x2ue7W6BPEOdAxuUYbQ98LiLMz0k3yqRdciHiF8TGkMtB%2FB3pwuELHu&houseId=2881217670620164&gpos=6&positionType=houserecommendlist&cocoTestType=coco_area_expand_test&legoCocoTestType=coco_area_expand_test&filterJson=e30&jx_abtest=ZWljX3N5ZGNfcGNfcmVjb21tZW5kX3Rlc3QsY29jb19hcmVhX2V4cGFuZF90ZXN0LHVzZXJfcGhhc2VfbA&list_type=main\n",
      "→https://qqhr.58.com/fangchan/52507753175041x.shtml?prd=L9PR%2FN9l6x2ue7W6BPEOdAxuUYbQ98LiLMz0k3yqRde0JDLwh4vr6lCaPl7kjNUL&houseId=2798950722804748&gpos=7&positionType=houserecommendlist&cocoTestType=coco_area_expand_test&legoCocoTestType=coco_area_expand_test&filterJson=e30&jx_abtest=ZWljX3N5ZGNfcGNfcmVjb21tZW5kX3Rlc3QsY29jb19hcmVhX2V4cGFuZF90ZXN0LHVzZXJfcGhhc2VfbA&list_type=main\n",
      "→https://qqhr.58.com/fangchan/53135099608607x.shtml?prd=L9PR%2FN9l6x2ue7W6BPEOdAxuUYbQ98LiLMz0k3yqRdcebLi21fYT5Vw5DLYderRB&houseId=2879251065383950&gpos=8&positionType=houserecommendlist&cocoTestType=coco_area_expand_test&legoCocoTestType=coco_area_expand_test&filterJson=e30&jx_abtest=ZWljX3N5ZGNfcGNfcmVjb21tZW5kX3Rlc3QsY29jb19hcmVhX2V4cGFuZF90ZXN0LHVzZXJfcGhhc2VfbA&list_type=main\n",
      "→https://qqhr.58.com/fangchan/53149481952139x.shtml?prd=L9PR%2FN9l6x2ue7W6BPEOdAxuUYbQ98LiLMz0k3yqRddxxmR1h0n1smOGJ1t57%2BX9&houseId=2881092005047302&gpos=9&positionType=houserecommendlist&cocoTestType=coco_area_expand_test&legoCocoTestType=coco_area_expand_test&filterJson=e30&jx_abtest=ZWljX3N5ZGNfcGNfcmVjb21tZW5kX3Rlc3QsY29jb19hcmVhX2V4cGFuZF90ZXN0LHVzZXJfcGhhc2VfbA&list_type=main\n",
      "→https://qqhr.58.com/fangchan/50285532237478x.shtml?prd=L9PR%2FN9l6x2ue7W6BPEOdAxuUYbQ98LiLMz0k3yqRdc3X%2BqbTn6Mt0wMmdz1JbkS&houseId=2514506442253313&gpos=10&positionType=houserecommendlist&cocoTestType=coco_area_expand_test&legoCocoTestType=coco_area_expand_test&filterJson=e30&jx_abtest=ZWljX3N5ZGNfcGNfcmVjb21tZW5kX3Rlc3QsY29jb19hcmVhX2V4cGFuZF90ZXN0LHVzZXJfcGhhc2VfbA&list_type=main\n",
      "→https://qqhr.58.com/fangchan/49232959656838x.shtml?prd=L9PR%2FN9l6x2ue7W6BPEOdAxuUYbQ98LiLMz0k3yqRdfg3b7eMz7zyBSpkITx3%2BlQ&houseId=2379777152098305&gpos=11&positionType=houserecommendlist&cocoTestType=coco_area_expand_test&legoCocoTestType=coco_area_expand_test&filterJson=e30&jx_abtest=ZWljX3N5ZGNfcGNfcmVjb21tZW5kX3Rlc3QsY29jb19hcmVhX2V4cGFuZF90ZXN0LHVzZXJfcGhhc2VfbA&list_type=main\n",
      "→https://qqhr.58.com/fangchan/50388038769205x.shtml?prd=L9PR%2FN9l6x2ue7W6BPEOdAxuUYbQ98LiLMz0k3yqRddRPq39NzHReJal2E2KM6XV&houseId=2527627278279688&gpos=12&positionType=houserecommendlist&cocoTestType=coco_area_expand_test&legoCocoTestType=coco_area_expand_test&filterJson=e30&jx_abtest=ZWljX3N5ZGNfcGNfcmVjb21tZW5kX3Rlc3QsY29jb19hcmVhX2V4cGFuZF90ZXN0LHVzZXJfcGhhc2VfbA&list_type=main\n",
      "→https://qqhr.58.com/fangchan/42996488908962x.shtml?prd=L9PR%2FN9l6x2ue7W6BPEOdAxuUYbQ98LiLMz0k3yqRdejoHgBnUitmd1LoLhXxXm%2F&houseId=1581508896202755&gpos=13&positionType=houserecommendlist&cocoTestType=coco_area_expand_test&legoCocoTestType=coco_area_expand_test&filterJson=e30&jx_abtest=ZWljX3N5ZGNfcGNfcmVjb21tZW5kX3Rlc3QsY29jb19hcmVhX2V4cGFuZF90ZXN0LHVzZXJfcGhhc2VfbA&list_type=main\n",
      "→https://qqhr.58.com/fangchan/51898141399968x.shtml?prd=L9PR%2FN9l6x2ue7W6BPEOdAxuUYbQ98LiLMz0k3yqRdeXbpI7txsvknADLZhMwyTl&houseId=2720920415153158&gpos=14&positionType=houserecommendlist&cocoTestType=coco_area_expand_test&legoCocoTestType=coco_area_expand_test&filterJson=e30&jx_abtest=ZWljX3N5ZGNfcGNfcmVjb21tZW5kX3Rlc3QsY29jb19hcmVhX2V4cGFuZF90ZXN0LHVzZXJfcGhhc2VfbA&list_type=main\n",
      "→https://qqhr.58.com/fangchan/51534908255290x.shtml?prd=L9PR%2FN9l6x2ue7W6BPEOdAxuUYbQ98LiLMz0k3yqRdfMdx6tDGwwFWjsv0IeE7nZ&houseId=2674426572381199&gpos=15&positionType=houserecommendlist&cocoTestType=coco_area_expand_test&legoCocoTestType=coco_area_expand_test&filterJson=e30&jx_abtest=ZWljX3N5ZGNfcGNfcmVjb21tZW5kX3Rlc3QsY29jb19hcmVhX2V4cGFuZF90ZXN0LHVzZXJfcGhhc2VfbA&list_type=main\n",
      "→https://qqhr.58.com/fangchan/53469736793366x.shtml?prd=L9PR%2FN9l6x2ue7W6BPEOdAxuUYbQ98LiLMz0k3yqRdeKweDUJWKAZOJPnByLbpm5&houseId=2922084625177602&gpos=16&positionType=houserecommendlist&cocoTestType=coco_area_expand_test&legoCocoTestType=coco_area_expand_test&filterJson=e30&jx_abtest=ZWljX3N5ZGNfcGNfcmVjb21tZW5kX3Rlc3QsY29jb19hcmVhX2V4cGFuZF90ZXN0LHVzZXJfcGhhc2VfbA&list_type=main\n",
      "→https://qqhr.58.com/fangchan/49233017738026x.shtml?prd=L9PR%2FN9l6x2ue7W6BPEOdAxuUYbQ98LiLMz0k3yqRddPo1NWaDz8tlT6rCfEd40q&houseId=2379784586715151&gpos=17&positionType=houserecommendlist&cocoTestType=coco_area_expand_test&legoCocoTestType=coco_area_expand_test&filterJson=e30&jx_abtest=ZWljX3N5ZGNfcGNfcmVjb21tZW5kX3Rlc3QsY29jb19hcmVhX2V4cGFuZF90ZXN0LHVzZXJfcGhhc2VfbA&list_type=main\n",
      "→https://qqhr.58.com/fangchan/53150570938771x.shtml?prd=L9PR%2FN9l6x2ue7W6BPEOdAxuUYbQ98LiLMz0k3yqRdfyA4Y6IEOE4EVmg2IhA4WG&houseId=2881231396170766&gpos=18&positionType=houserecommendlist&cocoTestType=coco_area_expand_test&legoCocoTestType=coco_area_expand_test&filterJson=e30&jx_abtest=ZWljX3N5ZGNfcGNfcmVjb21tZW5kX3Rlc3QsY29jb19hcmVhX2V4cGFuZF90ZXN0LHVzZXJfcGhhc2VfbA&list_type=main\n",
      "→https://qqhr.58.com/fangchan/53325511225227x.shtml?prd=L9PR%2FN9l6x2ue7W6BPEOdAxuUYbQ98LiLMz0k3yqRde8HSh9uIuhDkwE96h4Bwez&houseId=2903623752770570&gpos=19&positionType=houserecommendlist&cocoTestType=coco_area_expand_test&legoCocoTestType=coco_area_expand_test&filterJson=e30&jx_abtest=ZWljX3N5ZGNfcGNfcmVjb21tZW5kX3Rlc3QsY29jb19hcmVhX2V4cGFuZF90ZXN0LHVzZXJfcGhhc2VfbA&list_type=main\n",
      "→https://qqhr.58.com/fangchan/51046031595929x.shtml?prd=L9PR%2FN9l6x2ue7W6BPEOdAxuUYbQ98LiLMz0k3yqRdfJXu0rmuKLsjBzjZedwZH7&houseId=2611850360233984&gpos=20&positionType=houserecommendlist&cocoTestType=coco_area_expand_test&legoCocoTestType=coco_area_expand_test&filterJson=e30&jx_abtest=ZWljX3N5ZGNfcGNfcmVjb21tZW5kX3Rlc3QsY29jb19hcmVhX2V4cGFuZF90ZXN0LHVzZXJfcGhhc2VfbA&list_type=main\n",
      "→https://qqhr.58.com/fangchan/51859634368694x.shtml?prd=L9PR%2FN9l6x2ue7W6BPEOdAxuUYbQ98LiLMz0k3yqRdcadcQ6hgaIf6cwpbU%2F%2BNvt&houseId=2715991514012678&gpos=21&positionType=houserecommendlist&cocoTestType=coco_area_expand_test&legoCocoTestType=coco_area_expand_test&filterJson=e30&jx_abtest=ZWljX3N5ZGNfcGNfcmVjb21tZW5kX3Rlc3QsY29jb19hcmVhX2V4cGFuZF90ZXN0LHVzZXJfcGhhc2VfbA&list_type=main\n",
      "→https://qqhr.58.com/fangchan/50949423003195x.shtml?prd=L9PR%2FN9l6x2ue7W6BPEOdAxuUYbQ98LiLMz0k3yqRdcdwvrLHUnI04IjSMCdnSM8&houseId=2599484460703747&gpos=22&positionType=houserecommendlist&cocoTestType=coco_area_expand_test&legoCocoTestType=coco_area_expand_test&filterJson=e30&jx_abtest=ZWljX3N5ZGNfcGNfcmVjb21tZW5kX3Rlc3QsY29jb19hcmVhX2V4cGFuZF90ZXN0LHVzZXJfcGhhc2VfbA&list_type=main\n",
      "→https://qqhr.58.com/fangchan/53139418270229x.shtml?prd=L9PR%2FN9l6x2ue7W6BPEOdAxuUYbQ98LiLMz0k3yqRddg8MVl2effz5klQ%2FyowYLd&houseId=2879803854496782&gpos=23&positionType=houserecommendlist&cocoTestType=coco_area_expand_test&legoCocoTestType=coco_area_expand_test&filterJson=e30&jx_abtest=ZWljX3N5ZGNfcGNfcmVjb21tZW5kX3Rlc3QsY29jb19hcmVhX2V4cGFuZF90ZXN0LHVzZXJfcGhhc2VfbA&list_type=main\n",
      "→https://qqhr.58.com/fangchan/49808075151788x.shtml?prd=L9PR%2FN9l6x2ue7W6BPEOdAxuUYbQ98LiLMz0k3yqRde%2FOUHE7PbhUVBSbuvhiWBI&houseId=2453391935774734&gpos=24&positionType=houserecommendlist&cocoTestType=coco_area_expand_test&legoCocoTestType=coco_area_expand_test&filterJson=e30&jx_abtest=ZWljX3N5ZGNfcGNfcmVjb21tZW5kX3Rlc3QsY29jb19hcmVhX2V4cGFuZF90ZXN0LHVzZXJfcGhhc2VfbA&list_type=main\n",
      "→https://qqhr.58.com/fangchan/53217254816056x.shtml?prd=L9PR%2FN9l6x2ue7W6BPEOdAxuUYbQ98LiLMz0k3yqRdd3t5Nv7mlCEc0JllVqsIzm&houseId=2889766932356110&gpos=25&positionType=houserecommendlist&cocoTestType=coco_area_expand_test&legoCocoTestType=coco_area_expand_test&filterJson=e30&jx_abtest=ZWljX3N5ZGNfcGNfcmVjb21tZW5kX3Rlc3QsY29jb19hcmVhX2V4cGFuZF90ZXN0LHVzZXJfcGhhc2VfbA&list_type=main\n",
      "→https://qqhr.58.com/fangchan/49313892780829x.shtml?prd=L9PR%2FN9l6x2ue7W6BPEOdAxuUYbQ98LiLMz0k3yqRdcBC2zuq6qfePTC2qp%2FaR7H&houseId=2390136591982604&gpos=26&positionType=houserecommendlist&cocoTestType=coco_area_expand_test&legoCocoTestType=coco_area_expand_test&filterJson=e30&jx_abtest=ZWljX3N5ZGNfcGNfcmVjb21tZW5kX3Rlc3QsY29jb19hcmVhX2V4cGFuZF90ZXN0LHVzZXJfcGhhc2VfbA&list_type=main\n",
      "→https://qqhr.58.com/fangchan/48020954280583x.shtml?prd=L9PR%2FN9l6x2ue7W6BPEOdAxuUYbQ98LiLMz0k3yqRdeoOCRwtPhbb07lytJeeYgl&houseId=2224640463593481&gpos=27&positionType=houserecommendlist&cocoTestType=coco_area_expand_test&legoCocoTestType=coco_area_expand_test&filterJson=e30&jx_abtest=ZWljX3N5ZGNfcGNfcmVjb21tZW5kX3Rlc3QsY29jb19hcmVhX2V4cGFuZF90ZXN0LHVzZXJfcGhhc2VfbA&list_type=main\n",
      "→https://qqhr.58.com/fangchan/46462449738649x.shtml?prd=L9PR%2FN9l6x2ue7W6BPEOdAxuUYbQ98LiLMz0k3yqRddimRQ7NJyYlWc1TaVHPmyR&houseId=2025151882386439&gpos=28&positionType=houserecommendlist&cocoTestType=coco_area_expand_test&legoCocoTestType=coco_area_expand_test&filterJson=e30&jx_abtest=ZWljX3N5ZGNfcGNfcmVjb21tZW5kX3Rlc3QsY29jb19hcmVhX2V4cGFuZF90ZXN0LHVzZXJfcGhhc2VfbA&list_type=main\n",
      "→https://qqhr.58.com/fangchan/52163452214183x.shtml?prd=L9PR%2FN9l6x2ue7W6BPEOdAxuUYbQ98LiLMz0k3yqRddRbkO6N7bcdyelrzEJKwR2&houseId=2754880198927365&gpos=29&positionType=houserecommendlist&cocoTestType=coco_area_expand_test&legoCocoTestType=coco_area_expand_test&filterJson=e30&jx_abtest=ZWljX3N5ZGNfcGNfcmVjb21tZW5kX3Rlc3QsY29jb19hcmVhX2V4cGFuZF90ZXN0LHVzZXJfcGhhc2VfbA&list_type=main\n",
      "→https://qqhr.58.com/fangchan/52588378376635x.shtml?prd=L9PR%2FN9l6x2ue7W6BPEOdAxuUYbQ98LiLMz0k3yqRdeAl%2B14u4MjK%2BV3lF1SE%2Byi&houseId=2809270748421131&gpos=30&positionType=houserecommendlist&cocoTestType=coco_area_expand_test&legoCocoTestType=coco_area_expand_test&filterJson=e30&jx_abtest=ZWljX3N5ZGNfcGNfcmVjb21tZW5kX3Rlc3QsY29jb19hcmVhX2V4cGFuZF90ZXN0LHVzZXJfcGhhc2VfbA&list_type=main\n",
      "→https://qqhr.58.com/fangchan/53174530513209x.shtml?prd=L9PR%2FN9l6x2ue7W6BPEOdAxuUYbQ98LiLMz0k3yqRdeIJHCWEJuhL%2BxKgE608%2BjR&houseId=2884298221839360&gpos=31&positionType=houserecommendlist&cocoTestType=coco_area_expand_test&legoCocoTestType=coco_area_expand_test&filterJson=e30&jx_abtest=ZWljX3N5ZGNfcGNfcmVjb21tZW5kX3Rlc3QsY29jb19hcmVhX2V4cGFuZF90ZXN0LHVzZXJfcGhhc2VfbA&list_type=main\n",
      "→https://qqhr.58.com/fangchan/42248867810577x.shtml?prd=L9PR%2FN9l6x2ue7W6BPEOdAxuUYbQ98LiLMz0k3yqRdfHJGCl8eLvNok7xDdT6uln&houseId=1485813395743758&gpos=32&positionType=houserecommendlist&cocoTestType=coco_area_expand_test&legoCocoTestType=coco_area_expand_test&filterJson=e30&jx_abtest=ZWljX3N5ZGNfcGNfcmVjb21tZW5kX3Rlc3QsY29jb19hcmVhX2V4cGFuZF90ZXN0LHVzZXJfcGhhc2VfbA&list_type=main\n",
      "→https://qqhr.58.com/fangchan/43351125851675x.shtml?prd=L9PR%2FN9l6x2ue7W6BPEOdAxuUYbQ98LiLMz0k3yqRdeAdsktXNetMhl2XYyYVsYv&houseId=1626902424771599&gpos=33&positionType=houserecommendlist&cocoTestType=coco_area_expand_test&legoCocoTestType=coco_area_expand_test&filterJson=e30&jx_abtest=ZWljX3N5ZGNfcGNfcmVjb21tZW5kX3Rlc3QsY29jb19hcmVhX2V4cGFuZF90ZXN0LHVzZXJfcGhhc2VfbA&list_type=main\n",
      "→https://qqhr.58.com/fangchan/53375765772553x.shtml?prd=L9PR%2FN9l6x2ue7W6BPEOdAxuUYbQ98LiLMz0k3yqRdevk3talB%2BZkKrc7WBZrhdE&houseId=2910056334531597&gpos=34&positionType=houserecommendlist&cocoTestType=coco_area_expand_test&legoCocoTestType=coco_area_expand_test&filterJson=e30&jx_abtest=ZWljX3N5ZGNfcGNfcmVjb21tZW5kX3Rlc3QsY29jb19hcmVhX2V4cGFuZF90ZXN0LHVzZXJfcGhhc2VfbA&list_type=main\n"
     ]
    }
   ],
   "source": [
    "html_list = glob.glob(f\"{proj_dir}/{city}/{leixing}/*.html\")  # 查看同文件夹下的html文件列表\n",
    "f = open(f\"{proj_dir}/{city}/{leixing}/{leixing}.csv\", mode=\"a\")\n",
    "for result in html_list:  # 循环读取同文件夹下的html文件\n",
    "    obj = bf(open(result, encoding=\"utf-8\"), features=\"html.parser\")  # features值可为lxml\n",
    "    for item in obj.select('ul[class=\"list-main-style\"] a'):\n",
    "        detail_url = item.get(\"href\")\n",
    "        if 'https:' not in str(detail_url):\n",
    "            detail_url = f\"https:{detail_url}\"\n",
    "            f.write(\"%s\\n\" % (detail_url))\n",
    "        else:\n",
    "            f.write(\"%s\\n\" % (detail_url))\n",
    "        print(f'→{detail_url}')\n",
    "f.close()\n",
    "data = pd.read_csv(f\"{proj_dir}/{city}/{leixing}/{leixing}.csv\", header=None)\n",
    "data = data.iloc[:, 0].astype(\"str\").str.split(\"prd\", expand=True)[0] # expand让分割内容变成2列\n",
    "data = data.drop_duplicates() # 去重\n",
    "data.to_csv(f\"{proj_dir}/{city}/{leixing}/{leixing}.csv\",mode='w',header=None,index=False)"
   ]
  },
  {
   "cell_type": "code",
   "execution_count": 11,
   "metadata": {},
   "outputs": [
    {
     "data": {
      "text/plain": [
       "'https://qqhr.58.com/fangchan/53375765772553x.shtml?prd=L9PR%2FN9l6x2ue7W6BPEOdAxuUYbQ98LiLMz0k3yqRdevk3talB%2BZkKrc7WBZrhdE&houseId=2910056334531597&gpos=34&positionType=houserecommendlist&cocoTestType=coco_area_expand_test&legoCocoTestType=coco_area_expand_test&filterJson=e30&jx_abtest=ZWljX3N5ZGNfcGNfcmVjb21tZW5kX3Rlc3QsY29jb19hcmVhX2V4cGFuZF90ZXN0LHVzZXJfcGhhc2VfbA&list_type=main'"
      ]
     },
     "execution_count": 11,
     "metadata": {},
     "output_type": "execute_result"
    }
   ],
   "source": [
    "detail_url"
   ]
  },
  {
   "cell_type": "code",
   "execution_count": null,
   "metadata": {},
   "outputs": [],
   "source": [
    "#from tudiparse import parse_tudi\n",
    "from fangchanparse import parse_fc\n",
    "from setting import proj_dir\n",
    "import pandas as pd\n",
    "\n",
    "citylist=pd.read_excel(f'{proj_dir}/citylist.xlsx')\n",
    "pro=\"黑龙江\"\n",
    "df=pd.read_excel(f'{proj_dir}/租金.xlsx')\n",
    "for city in citylist.loc[citylist['pro']==pro,'index']:\n",
    "    for leixing in ['tudi','changfang','cangkucf']:\n",
    "        parse_fc(city,leixing,df)\n",
    "df.to_excel(f'{proj_dir}/{pro}租金.xlsx',index=False)\n",
    "\n",
    "\n"
   ]
  },
  {
   "cell_type": "code",
   "execution_count": null,
   "metadata": {},
   "outputs": [],
   "source": []
  }
 ],
 "metadata": {
  "kernelspec": {
   "display_name": "base",
   "language": "python",
   "name": "python3"
  },
  "language_info": {
   "codemirror_mode": {
    "name": "ipython",
    "version": 3
   },
   "file_extension": ".py",
   "mimetype": "text/x-python",
   "name": "python",
   "nbconvert_exporter": "python",
   "pygments_lexer": "ipython3",
   "version": "3.9.13"
  },
  "orig_nbformat": 4
 },
 "nbformat": 4,
 "nbformat_minor": 2
}
